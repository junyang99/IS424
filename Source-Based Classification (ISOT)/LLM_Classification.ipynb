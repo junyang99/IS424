{
 "cells": [
  {
   "cell_type": "code",
   "execution_count": 29,
   "metadata": {},
   "outputs": [],
   "source": [
    "import openai\n",
    "import pandas as pd\n",
    "import time"
   ]
  },
  {
   "cell_type": "code",
   "execution_count": 30,
   "metadata": {},
   "outputs": [
    {
     "name": "stdout",
     "output_type": "stream",
     "text": [
      "Hello, world!\n"
     ]
    }
   ],
   "source": [
    "response = client.chat.completions.create(\n",
    "    model=\"gpt-4-turbo\",\n",
    "    messages=[{\"role\": \"user\", \"content\": \"Say 'Hello, world!'\"}]\n",
    ")\n",
    "print(response.choices[0].message.content)\n"
   ]
  },
  {
   "cell_type": "code",
   "execution_count": 31,
   "metadata": {},
   "outputs": [],
   "source": [
    "def classify_news(article_text, model=\"gpt-4-turbo\"):\n",
    "    \"\"\"Calls OpenAI API to classify a news article as real (1) or fake (0).\"\"\"\n",
    "    if not isinstance(article_text, str) or article_text.strip() == \"\":\n",
    "        return None  # Avoid sending empty or invalid requests\n",
    "    \n",
    "    prompt = (\n",
    "        f\"\"\"Determine whether the following news article is real (1) or fake (0). \n",
    "        Provide only the number 1 or 0 as output.\n",
    "        \n",
    "        Article:\n",
    "        {article_text}\n",
    "        \"\"\"\n",
    "    )\n",
    "    \n",
    "    try:\n",
    "        response = client.chat.completions.create(\n",
    "            model=model,\n",
    "            messages=[{\"role\": \"system\", \"content\": \"You are a fact-checking AI.\"},\n",
    "                      {\"role\": \"user\", \"content\": prompt}],\n",
    "            temperature=0\n",
    "        )\n",
    "        prediction = response.choices[0].message.content.strip()\n",
    "        return int(prediction) if prediction in [\"0\", \"1\"] else None\n",
    "    except Exception as e:\n",
    "        print(f\"Error processing article: {e}\")\n",
    "        return None\n",
    "\n",
    "def process_news_file(input_file, output_file):\n",
    "    \"\"\"Reads a CSV file, classifies news articles, updates rows, and calculates accuracy.\"\"\"\n",
    "    df = pd.read_csv(input_file, low_memory=False)\n",
    "    \n",
    "    if \"text\" not in df.columns or \"original label\" not in df.columns:\n",
    "        raise ValueError(\"CSV file must contain 'text' and 'original label' columns.\")\n",
    "    \n",
    "    # Initialize an empty list for predictions\n",
    "    predictions = []\n",
    "    \n",
    "    for index, row in df.iterrows():\n",
    "        gpt_label = classify_news(row[\"text\"])\n",
    "        predictions.append(gpt_label)\n",
    "        df.at[index, \"gpt labels\"] = gpt_label  # Update row immediately\n",
    "    \n",
    "    # Drop rows where GPT didn't return a valid prediction\n",
    "    df.dropna(subset=[\"gpt labels\"], inplace=True)\n",
    "    \n",
    "    # Ensure GPT predictions are integers\n",
    "    df[\"gpt labels\"] = df[\"gpt labels\"].astype(int)\n",
    "    \n",
    "    # Save the updated dataframe immediately\n",
    "    df.to_csv(output_file, index=False, encoding=\"utf-8\")\n",
    "    print(f\"Results saved to {output_file}\")\n",
    "\n",
    "def evaluate_metrics(processed_file):\n",
    "    \"\"\"Evaluates precision, recall, and F1-score for the GPT predictions from scratch.\"\"\"\n",
    "    df = pd.read_csv(processed_file)\n",
    "    \n",
    "    if \"gpt labels\" not in df.columns or \"original label\" not in df.columns:\n",
    "        raise ValueError(\"Processed CSV file must contain 'gpt labels' and 'original label' columns.\")\n",
    "    \n",
    "    true_positives = sum((df[\"gpt labels\"] == 1) & (df[\"original label\"] == 1))\n",
    "    false_positives = sum((df[\"gpt labels\"] == 1) & (df[\"original label\"] == 0))\n",
    "    false_negatives = sum((df[\"gpt labels\"] == 0) & (df[\"original label\"] == 1))\n",
    "    true_negatives = sum((df[\"gpt labels\"] == 0) & (df[\"original label\"] == 0))\n",
    "    \n",
    "    accuracy = (true_positives + true_negatives) / len(df)\n",
    "    precision = true_positives / (true_positives + false_positives) if (true_positives + false_positives) > 0 else 0\n",
    "    recall = true_positives / (true_positives + false_negatives) if (true_positives + false_negatives) > 0 else 0\n",
    "    f1 = (2 * precision * recall) / (precision + recall) if (precision + recall) > 0 else 0\n",
    "    \n",
    "    print(f\"Accuracy: {accuracy:.2%}\")\n",
    "    print(f\"Precision: {precision:.2%}\")\n",
    "    print(f\"Recall: {recall:.2%}\")\n",
    "    print(f\"F1 Score: {f1:.2%}\")"
   ]
  },
  {
   "cell_type": "code",
   "execution_count": 32,
   "metadata": {},
   "outputs": [
    {
     "name": "stdout",
     "output_type": "stream",
     "text": [
      "Results saved to news_data_with_predictions.csv\n",
      "Accuracy: 88.00%\n",
      "Precision: 82.76%\n",
      "Recall: 96.00%\n",
      "F1 Score: 88.89%\n"
     ]
    }
   ],
   "source": [
    "if __name__ == \"__main__\":\n",
    "    input_file = \"../data/news_data.csv\"\n",
    "    output_file = \"ISOT_Data_With_LLM_Predictions.csv\"\n",
    "    process_news_file(input_file, output_file)\n",
    "    evaluate_metrics(output_file)"
   ]
  }
 ],
 "metadata": {
  "kernelspec": {
   "display_name": "base",
   "language": "python",
   "name": "python3"
  },
  "language_info": {
   "codemirror_mode": {
    "name": "ipython",
    "version": 3
   },
   "file_extension": ".py",
   "mimetype": "text/x-python",
   "name": "python",
   "nbconvert_exporter": "python",
   "pygments_lexer": "ipython3",
   "version": "3.11.5"
  }
 },
 "nbformat": 4,
 "nbformat_minor": 2
}
