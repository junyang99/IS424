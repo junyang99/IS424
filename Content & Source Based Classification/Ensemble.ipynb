{
 "cells": [
  {
   "cell_type": "code",
   "execution_count": null,
   "metadata": {},
   "outputs": [],
   "source": [
    "\n",
    "import torch\n",
    "import torch.nn.functional as F\n",
    "from transformers import RobertaTokenizer, RobertaForSequenceClassification\n",
    "import re\n",
    "import openai\n",
    "import pandas as pd\n",
    "import matplotlib.pyplot as plt\n",
    "from sklearn.metrics import classification_report, confusion_matrix, roc_auc_score, roc_curve\n"
   ]
  },
  {
   "cell_type": "code",
   "execution_count": 116,
   "metadata": {},
   "outputs": [
    {
     "data": {
      "text/plain": [
       "RobertaForSequenceClassification(\n",
       "  (roberta): RobertaModel(\n",
       "    (embeddings): RobertaEmbeddings(\n",
       "      (word_embeddings): Embedding(50265, 768, padding_idx=1)\n",
       "      (position_embeddings): Embedding(514, 768, padding_idx=1)\n",
       "      (token_type_embeddings): Embedding(1, 768)\n",
       "      (LayerNorm): LayerNorm((768,), eps=1e-05, elementwise_affine=True)\n",
       "      (dropout): Dropout(p=0.1, inplace=False)\n",
       "    )\n",
       "    (encoder): RobertaEncoder(\n",
       "      (layer): ModuleList(\n",
       "        (0-11): 12 x RobertaLayer(\n",
       "          (attention): RobertaAttention(\n",
       "            (self): RobertaSdpaSelfAttention(\n",
       "              (query): Linear(in_features=768, out_features=768, bias=True)\n",
       "              (key): Linear(in_features=768, out_features=768, bias=True)\n",
       "              (value): Linear(in_features=768, out_features=768, bias=True)\n",
       "              (dropout): Dropout(p=0.1, inplace=False)\n",
       "            )\n",
       "            (output): RobertaSelfOutput(\n",
       "              (dense): Linear(in_features=768, out_features=768, bias=True)\n",
       "              (LayerNorm): LayerNorm((768,), eps=1e-05, elementwise_affine=True)\n",
       "              (dropout): Dropout(p=0.1, inplace=False)\n",
       "            )\n",
       "          )\n",
       "          (intermediate): RobertaIntermediate(\n",
       "            (dense): Linear(in_features=768, out_features=3072, bias=True)\n",
       "            (intermediate_act_fn): GELUActivation()\n",
       "          )\n",
       "          (output): RobertaOutput(\n",
       "            (dense): Linear(in_features=3072, out_features=768, bias=True)\n",
       "            (LayerNorm): LayerNorm((768,), eps=1e-05, elementwise_affine=True)\n",
       "            (dropout): Dropout(p=0.1, inplace=False)\n",
       "          )\n",
       "        )\n",
       "      )\n",
       "    )\n",
       "  )\n",
       "  (classifier): RobertaClassificationHead(\n",
       "    (dense): Linear(in_features=768, out_features=768, bias=True)\n",
       "    (dropout): Dropout(p=0.1, inplace=False)\n",
       "    (out_proj): Linear(in_features=768, out_features=2, bias=True)\n",
       "  )\n",
       ")"
      ]
     },
     "execution_count": 116,
     "metadata": {},
     "output_type": "execute_result"
    }
   ],
   "source": [
    "# Load trained model\n",
    "model_path = \"roberta_fakenews_model\"\n",
    "tokenizer = RobertaTokenizer.from_pretrained(model_path)\n",
    "model = RobertaForSequenceClassification.from_pretrained(model_path)\n",
    "model.eval()\n"
   ]
  },
  {
   "cell_type": "markdown",
   "metadata": {},
   "source": [
    "## Cleaning Functions"
   ]
  },
  {
   "cell_type": "code",
   "execution_count": 117,
   "metadata": {},
   "outputs": [],
   "source": [
    "def clean_text(text):\n",
    "    text = text.lower()\n",
    "    text = re.sub(r\"http\\S+\", \"\", text)\n",
    "    text = re.sub(r\"\\d+\", \"\", text)\n",
    "    text = re.sub(r\"[^\\w\\s]\", \"\", text)\n",
    "    text = re.sub(r\"\\s+\", \" \", text).strip()\n",
    "    return text\n",
    "\n",
    "@torch.no_grad()\n",
    "def classify_with_roberta(text):\n",
    "    cleaned = clean_text(text)\n",
    "    inputs = tokenizer(cleaned, return_tensors=\"pt\", truncation=True, padding=True, max_length=512)\n",
    "    outputs = model(**inputs)\n",
    "    logits = outputs.logits\n",
    "    probs = F.softmax(logits, dim=1).squeeze().tolist()\n",
    "    label = torch.argmax(logits, dim=1).item()  # → 0 or 1\n",
    "    y_score = probs[1]\n",
    "    return label, y_score\n",
    "\n",
    "def classify_claim(claim_text, model=\"gpt-4-turbo\"):\n",
    "    \"\"\"Calls OpenAI API to classify a claim as SUPPORTS or REFUTES.\"\"\"\n",
    "    if not isinstance(claim_text, str) or claim_text.strip() == \"\":\n",
    "        return None\n",
    "\n",
    "    prompt = f\"\"\"\n",
    "    Determine whether the following claim is \"SUPPORTS\" or \"REFUTES\".\n",
    "    Provide only 0 if \"SUPPORTS\" or 1 if \"REFUTES\" as the output.\n",
    "\n",
    "    Claim:\n",
    "    {claim_text}\n",
    "    \"\"\"\n",
    "\n",
    "    try:\n",
    "        response = client.chat.completions.create(\n",
    "            model=model,\n",
    "            messages=[\n",
    "                {\"role\": \"system\", \"content\": \"You are a fact-checking AI.\"},\n",
    "                {\"role\": \"user\", \"content\": prompt}\n",
    "            ],\n",
    "            temperature=0\n",
    "        )\n",
    "\n",
    "        prediction = response.choices[0].message.content.strip()\n",
    "        return prediction if prediction in [\"1\", \"0\"] else None\n",
    "\n",
    "    except Exception as e:\n",
    "        print(f\"LLM Error: {e}\")\n",
    "        return None\n",
    "\n",
    "\n",
    "def classify_with_llm(text):\n",
    "    result = classify_claim(text)\n",
    "    if result == \"0\":\n",
    "        return 0  # SUPPORTS → Real\n",
    "    elif result == \"1\":\n",
    "        return 1  # REFUTES → Fake\n",
    "    else:\n",
    "        return \"Unable to determine\"  # Uncertain"
   ]
  },
  {
   "cell_type": "markdown",
   "metadata": {},
   "source": [
    "## Domain-Aware Routing (Hard Split)"
   ]
  },
  {
   "cell_type": "code",
   "execution_count": 118,
   "metadata": {},
   "outputs": [],
   "source": [
    "def detect_domain_by_length(text, threshold=30):\n",
    "    return \"reuters\" if len(text.split()) > threshold else \"fever\"\n",
    "\n",
    "def ensemble_router(text):\n",
    "    domain = detect_domain_by_length(text)\n",
    "\n",
    "    if domain == \"reuters\":\n",
    "        label, score = classify_with_roberta(text)\n",
    "    elif domain == \"fever\":\n",
    "        label = classify_with_llm(text)\n",
    "        score = float(label)\n",
    "    else:\n",
    "        raise ValueError(\"Invalid input\")\n",
    "\n",
    "    return label,score, domain  # 0 = Real, 1 = Fake"
   ]
  },
  {
   "cell_type": "code",
   "execution_count": 119,
   "metadata": {},
   "outputs": [],
   "source": [
    "# Load data\n",
    "true_df = pd.read_csv(\"../data/True.csv\")\n",
    "false_df = pd.read_csv(\"../data/Fake.csv\")\n",
    "fever_df = pd.read_excel(\"../data/filtered_fever_data.xlsx\")\n",
    "\n",
    "# Add labels\n",
    "true_df[\"label\"] = 0\n",
    "false_df[\"label\"] = 1\n",
    "\n",
    "# Standardize fever labels\n",
    "fever_df[\"label\"] = fever_df[\"label\"].map({\"SUPPORTS\": 0, \"REFUTES\": 1})\n",
    "\n",
    "# Clean and unify columns\n",
    "true_df[\"text\"] = true_df[\"title\"] + \" \" + true_df[\"text\"]\n",
    "false_df[\"text\"] = false_df[\"title\"] + \" \" + false_df[\"text\"]\n",
    "\n",
    "# Select and unify necessary columns\n",
    "true_df = true_df[[\"text\", \"label\"]]\n",
    "false_df = false_df[[\"text\", \"label\"]]\n",
    "fever_df = fever_df[[\"claim\", \"label\"]].rename(columns={\"claim\": \"text\"})\n",
    "\n",
    "# Combine all datasets\n",
    "merged_df = pd.concat([true_df, false_df, fever_df], ignore_index=True)\n",
    "merged_df = merged_df.sample(frac=1, random_state=42).reset_index(drop=True)"
   ]
  },
  {
   "cell_type": "code",
   "execution_count": 120,
   "metadata": {},
   "outputs": [],
   "source": [
    "# Limit to first 300 rows\n",
    "merged_df = merged_df.iloc[:10]\n",
    "\n",
    "# Run through ensemble\n",
    "predictions = []\n",
    "scores = []\n",
    "domains = []\n",
    "\n",
    "for text in merged_df[\"text\"]:\n",
    "    pred, score, domain = ensemble_router(text)\n",
    "    predictions.append(pred)\n",
    "    scores.append(score)\n",
    "    domains.append(domain)"
   ]
  },
  {
   "cell_type": "code",
   "execution_count": 121,
   "metadata": {},
   "outputs": [
    {
     "name": "stdout",
     "output_type": "stream",
     "text": [
      "Saved predictions to ensemble_predictions.xlsx\n"
     ]
    }
   ],
   "source": [
    "merged_df[\"predicted\"] = predictions\n",
    "merged_df[\"domain\"] = domains\n",
    "\n",
    "excel_path = \"ensemble_predictions.xlsx\"\n",
    "merged_df.to_excel(excel_path, index=False)\n",
    "print(f\"Saved predictions to {excel_path}\")"
   ]
  },
  {
   "cell_type": "code",
   "execution_count": 122,
   "metadata": {},
   "outputs": [
    {
     "data": {
      "text/html": [
       "<div>\n",
       "<style scoped>\n",
       "    .dataframe tbody tr th:only-of-type {\n",
       "        vertical-align: middle;\n",
       "    }\n",
       "\n",
       "    .dataframe tbody tr th {\n",
       "        vertical-align: top;\n",
       "    }\n",
       "\n",
       "    .dataframe thead th {\n",
       "        text-align: right;\n",
       "    }\n",
       "</style>\n",
       "<table border=\"1\" class=\"dataframe\">\n",
       "  <thead>\n",
       "    <tr style=\"text-align: right;\">\n",
       "      <th></th>\n",
       "      <th>text</th>\n",
       "      <th>label</th>\n",
       "      <th>predicted</th>\n",
       "      <th>domain</th>\n",
       "    </tr>\n",
       "  </thead>\n",
       "  <tbody>\n",
       "    <tr>\n",
       "      <th>0</th>\n",
       "      <td>Kingdom of Hearts III won't be playable on two...</td>\n",
       "      <td>1</td>\n",
       "      <td>1</td>\n",
       "      <td>fever</td>\n",
       "    </tr>\n",
       "    <tr>\n",
       "      <th>1</th>\n",
       "      <td>Slovakia is peaceful.</td>\n",
       "      <td>0</td>\n",
       "      <td>0</td>\n",
       "      <td>fever</td>\n",
       "    </tr>\n",
       "    <tr>\n",
       "      <th>2</th>\n",
       "      <td>House Republican offers bill to keep governmen...</td>\n",
       "      <td>0</td>\n",
       "      <td>0</td>\n",
       "      <td>reuters</td>\n",
       "    </tr>\n",
       "    <tr>\n",
       "      <th>3</th>\n",
       "      <td>All the president's women: Duterte's fiercest ...</td>\n",
       "      <td>0</td>\n",
       "      <td>0</td>\n",
       "      <td>reuters</td>\n",
       "    </tr>\n",
       "    <tr>\n",
       "      <th>4</th>\n",
       "      <td>Tony Bill directed a film based on a book.</td>\n",
       "      <td>0</td>\n",
       "      <td>1</td>\n",
       "      <td>fever</td>\n",
       "    </tr>\n",
       "    <tr>\n",
       "      <th>5</th>\n",
       "      <td>Cristiano Ronaldo reached 100 scores in Europe...</td>\n",
       "      <td>0</td>\n",
       "      <td>1</td>\n",
       "      <td>fever</td>\n",
       "    </tr>\n",
       "    <tr>\n",
       "      <th>6</th>\n",
       "      <td>Dhool featured Reemma Sen in a minor role.</td>\n",
       "      <td>1</td>\n",
       "      <td>1</td>\n",
       "      <td>fever</td>\n",
       "    </tr>\n",
       "    <tr>\n",
       "      <th>7</th>\n",
       "      <td>Bradford is in West Yorkshire.</td>\n",
       "      <td>0</td>\n",
       "      <td>0</td>\n",
       "      <td>fever</td>\n",
       "    </tr>\n",
       "    <tr>\n",
       "      <th>8</th>\n",
       "      <td>OUCH! NEW EMAILS Show Hillary Didn’t Want To F...</td>\n",
       "      <td>1</td>\n",
       "      <td>1</td>\n",
       "      <td>reuters</td>\n",
       "    </tr>\n",
       "    <tr>\n",
       "      <th>9</th>\n",
       "      <td>Hillary Clinton had Senator Tim Kaine as her v...</td>\n",
       "      <td>0</td>\n",
       "      <td>0</td>\n",
       "      <td>fever</td>\n",
       "    </tr>\n",
       "  </tbody>\n",
       "</table>\n",
       "</div>"
      ],
      "text/plain": [
       "                                                text  label  predicted  \\\n",
       "0  Kingdom of Hearts III won't be playable on two...      1          1   \n",
       "1                              Slovakia is peaceful.      0          0   \n",
       "2  House Republican offers bill to keep governmen...      0          0   \n",
       "3  All the president's women: Duterte's fiercest ...      0          0   \n",
       "4         Tony Bill directed a film based on a book.      0          1   \n",
       "5  Cristiano Ronaldo reached 100 scores in Europe...      0          1   \n",
       "6         Dhool featured Reemma Sen in a minor role.      1          1   \n",
       "7                     Bradford is in West Yorkshire.      0          0   \n",
       "8  OUCH! NEW EMAILS Show Hillary Didn’t Want To F...      1          1   \n",
       "9  Hillary Clinton had Senator Tim Kaine as her v...      0          0   \n",
       "\n",
       "    domain  \n",
       "0    fever  \n",
       "1    fever  \n",
       "2  reuters  \n",
       "3  reuters  \n",
       "4    fever  \n",
       "5    fever  \n",
       "6    fever  \n",
       "7    fever  \n",
       "8  reuters  \n",
       "9    fever  "
      ]
     },
     "execution_count": 122,
     "metadata": {},
     "output_type": "execute_result"
    }
   ],
   "source": [
    "merged_df"
   ]
  },
  {
   "cell_type": "code",
   "execution_count": 123,
   "metadata": {},
   "outputs": [
    {
     "name": "stdout",
     "output_type": "stream",
     "text": [
      "\n",
      "FEVER Confusion Matrix:\n",
      "             Pred Fake  Pred Real\n",
      "Actual Fake          3          2\n",
      "Actual Real          0          2\n",
      "\n",
      "REUTERS Confusion Matrix:\n",
      "             Pred Fake  Pred Real\n",
      "Actual Fake          2          0\n",
      "Actual Real          0          1\n"
     ]
    }
   ],
   "source": [
    "# Split by domain\n",
    "fever_df = merged_df[merged_df[\"domain\"] == \"fever\"]\n",
    "reuters_df = merged_df[merged_df[\"domain\"] == \"reuters\"]\n",
    "\n",
    "# Confusion for FEVER\n",
    "fever_cm = confusion_matrix(fever_df[\"label\"], fever_df[\"predicted\"])\n",
    "fever_cm_df = pd.DataFrame(fever_cm, index=[\"Actual Fake\", \"Actual Real\"], columns=[\"Pred Fake\", \"Pred Real\"])\n",
    "print(\"\\nFEVER Confusion Matrix:\")\n",
    "print(fever_cm_df)\n",
    "\n",
    "# Confusion for REUTERS\n",
    "reuters_cm = confusion_matrix(reuters_df[\"label\"], reuters_df[\"predicted\"])\n",
    "reuters_cm_df = pd.DataFrame(reuters_cm, index=[\"Actual Fake\", \"Actual Real\"], columns=[\"Pred Fake\", \"Pred Real\"])\n",
    "print(\"\\nREUTERS Confusion Matrix:\")\n",
    "print(reuters_cm_df)\n"
   ]
  },
  {
   "cell_type": "code",
   "execution_count": 124,
   "metadata": {},
   "outputs": [
    {
     "name": "stdout",
     "output_type": "stream",
     "text": [
      "\n",
      "Confusion Matrix (5dp):\n",
      "            Pred Fake Pred Real\n",
      "Actual Fake   5.00000   2.00000\n",
      "Actual Real   0.00000   3.00000\n"
     ]
    },
    {
     "name": "stderr",
     "output_type": "stream",
     "text": [
      "/var/folders/p4/v_6p0t5d09qd52xqbf4lp_fh0000gn/T/ipykernel_45852/2053473442.py:11: FutureWarning: DataFrame.applymap has been deprecated. Use DataFrame.map instead.\n",
      "  print(cm_df.applymap(lambda x: f\"{x:.5f}\"))\n"
     ]
    }
   ],
   "source": [
    "from sklearn.metrics import confusion_matrix, ConfusionMatrixDisplay\n",
    "import pandas as pd\n",
    "\n",
    "y_true = merged_df[\"label\"]\n",
    "y_pred = merged_df[\"predicted\"]  # Already numeric (0/1)\n",
    "\n",
    "# Confusion matrix\n",
    "cm = confusion_matrix(y_true, y_pred)\n",
    "cm_df = pd.DataFrame(cm, index=[\"Actual Fake\", \"Actual Real\"], columns=[\"Pred Fake\", \"Pred Real\"])\n",
    "print(\"\\nConfusion Matrix (5dp):\")\n",
    "print(cm_df.applymap(lambda x: f\"{x:.5f}\"))\n"
   ]
  },
  {
   "cell_type": "code",
   "execution_count": 129,
   "metadata": {},
   "outputs": [
    {
     "data": {
      "text/plain": [
       "0                                     [1.0, 0.0]\n",
       "1                                     [0.5, 0.5]\n",
       "2    [0.9999908208847046, 9.160897207038943e-06]\n",
       "3    [0.9999908208847046, 9.143030183622614e-06]\n",
       "4                                     [0.0, 1.0]\n",
       "5                                     [0.0, 1.0]\n",
       "6                                     [1.0, 0.0]\n",
       "7                                     [0.0, 1.0]\n",
       "8    [6.059241513867164e-06, 0.9999939203262329]\n",
       "9                                     [0.0, 1.0]\n",
       "Name: probs_real, dtype: object"
      ]
     },
     "execution_count": 129,
     "metadata": {},
     "output_type": "execute_result"
    }
   ],
   "source": [
    "y_scores"
   ]
  },
  {
   "cell_type": "code",
   "execution_count": 133,
   "metadata": {},
   "outputs": [
    {
     "data": {
      "image/png": "[encoded data removed]",
      "text/plain": [
       "<Figure size 640x480 with 1 Axes>"
      ]
     },
     "metadata": {},
     "output_type": "display_data"
    }
   ],
   "source": [
    "y_true = merged_df[\"label\"].tolist()\n",
    "y_scores = [s[0] if isinstance(s, list) else s for s in scores]  # handles both [p_fake, p_real] and float\n",
    "\n",
    "# Compute ROC AUC\n",
    "roc_auc = roc_auc_score(y_true, y_scores)\n",
    "fpr, tpr, _ = roc_curve(y_true, y_scores)\n",
    "\n",
    "# Plot ROC Curve\n",
    "plt.figure()\n",
    "plt.plot(fpr, tpr, label=f\"ROC AUC = {roc_auc:.5f}\")\n",
    "plt.plot([0, 1], [0, 1], linestyle=\"--\", color=\"gray\")\n",
    "plt.xlabel(\"False Positive Rate\")\n",
    "plt.ylabel(\"True Positive Rate\")\n",
    "plt.title(\"ROC Curve\")\n",
    "plt.legend()\n",
    "plt.grid()\n",
    "plt.show()\n"
   ]
  }
 ],
 "metadata": {
  "kernelspec": {
   "display_name": "base",
   "language": "python",
   "name": "python3"
  },
  "language_info": {
   "codemirror_mode": {
    "name": "ipython",
    "version": 3
   },
   "file_extension": ".py",
   "mimetype": "text/x-python",
   "name": "python",
   "nbconvert_exporter": "python",
   "pygments_lexer": "ipython3",
   "version": "3.11.5"
  }
 },
 "nbformat": 4,
 "nbformat_minor": 2
}
