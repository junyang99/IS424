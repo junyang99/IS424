{
 "cells": [
  {
   "cell_type": "code",
   "execution_count": 1,
   "metadata": {},
   "outputs": [
    {
     "name": "stderr",
     "output_type": "stream",
     "text": [
      "/Applications/anaconda3/lib/python3.11/site-packages/pandas/core/arrays/masked.py:60: UserWarning: Pandas requires version '1.3.6' or newer of 'bottleneck' (version '1.3.5' currently installed).\n",
      "  from pandas.core import (\n"
     ]
    }
   ],
   "source": [
    "import json\n",
    "import pandas as pd\n",
    "import openai\n",
    "import time\n",
    "from sklearn.metrics import accuracy_score, classification_report"
   ]
  },
  {
   "cell_type": "code",
   "execution_count": 2,
   "metadata": {},
   "outputs": [],
   "source": [
    "file_path = \"../data/train.jsonl\""
   ]
  },
  {
   "cell_type": "code",
   "execution_count": 14,
   "metadata": {},
   "outputs": [],
   "source": [
    "data = []\n",
    "with open(file_path, \"r\", encoding=\"utf-8\") as f:\n",
    "    for line in f:\n",
    "        data.append(json.loads(line))\n",
    "\n",
    "df = pd.DataFrame(data)"
   ]
  },
  {
   "cell_type": "code",
   "execution_count": 15,
   "metadata": {},
   "outputs": [
    {
     "name": "stdout",
     "output_type": "stream",
     "text": [
      "\n",
      "=== Label Distribution in First 200 Rows ===\n",
      "label\n",
      "SUPPORTS    146\n",
      "REFUTES      54\n",
      "Name: count, dtype: int64\n"
     ]
    }
   ],
   "source": [
    "# 🔹 Filter: \"VERIFIABLE\" claims & \"SUPPORTS\"/\"REFUTES\" labels\n",
    "df_filtered = df[(df[\"verifiable\"] == \"VERIFIABLE\") & (df[\"label\"].isin([\"SUPPORTS\", \"REFUTES\"]))].copy()\n",
    "df_filtered = df_filtered[[\"claim\", \"label\"]].head(200)\n",
    "print(\"\\n=== Label Distribution in First 200 Rows ===\")\n",
    "print(df_filtered['label'].value_counts())"
   ]
  },
  {
   "cell_type": "code",
   "execution_count": 16,
   "metadata": {},
   "outputs": [],
   "source": [
    "def classify_claim(claim_text, model=\"gpt-4-turbo\"):\n",
    "    \"\"\"Calls OpenAI API to classify a claim as SUPPORTS or REFUTES.\"\"\"\n",
    "    if not isinstance(claim_text, str) or claim_text.strip() == \"\":\n",
    "        return None  # Avoid empty inputs\n",
    "    \n",
    "    prompt = f\"\"\"\n",
    "    Determine whether the following claim is \"SUPPORTS\" or \"REFUTES\".\n",
    "    Provide only \"SUPPORTS\" or \"REFUTES\" as the output.\n",
    "    \n",
    "    Claim:\n",
    "    {claim_text}\n",
    "    \"\"\"\n",
    "\n",
    "    try:\n",
    "        response = client.chat.completions.create(\n",
    "            model=model,\n",
    "            messages=[{\"role\": \"system\", \"content\": \"You are a fact-checking AI.\"},\n",
    "                      {\"role\": \"user\", \"content\": prompt}],\n",
    "            temperature=0\n",
    "        )\n",
    "        prediction = response.choices[0].message.content.strip().upper()\n",
    "        return prediction if prediction in [\"SUPPORTS\", \"REFUTES\"] else None\n",
    "    except Exception as e:\n",
    "        print(f\"Error processing claim: {e}\")\n",
    "        return None"
   ]
  },
  {
   "cell_type": "code",
   "execution_count": null,
   "metadata": {},
   "outputs": [
    {
     "name": "stdout",
     "output_type": "stream",
     "text": [
      "\n",
      "Results saved to llm_predictions_200rows.csv\n",
      "\n",
      "=== LLM Model Performance ===\n",
      "Accuracy: 0.8550\n",
      "              precision    recall  f1-score   support\n",
      "\n",
      "     REFUTES       0.67      0.93      0.78        54\n",
      "    SUPPORTS       0.97      0.83      0.89       146\n",
      "\n",
      "    accuracy                           0.85       200\n",
      "   macro avg       0.82      0.88      0.83       200\n",
      "weighted avg       0.89      0.85      0.86       200\n",
      "\n"
     ]
    }
   ],
   "source": [
    "# 🔹 Run Classification on First 200 Rows\n",
    "df_filtered[\"LLM_Prediction\"] = df_filtered[\"claim\"].apply(classify_claim)\n",
    "\n",
    "# 🔹 Remove rows where LLM didn't return a valid prediction\n",
    "df_filtered.dropna(subset=[\"LLM_Prediction\"], inplace=True)\n",
    "\n",
    "# 🔹 Convert Labels to Match\n",
    "df_filtered[\"label\"] = df_filtered[\"label\"].str.upper()\n",
    "df_filtered[\"LLM_Prediction\"] = df_filtered[\"LLM_Prediction\"].str.upper()\n",
    "\n",
    "# 🔹 Save results to CSV\n",
    "output_file = \"llm_predictions_200rows.csv\"\n",
    "df_filtered.to_csv(output_file, index=False, encoding=\"utf-8\")\n",
    "print(f\"\\nResults saved to {output_file}\")\n"
   ]
  },
  {
   "cell_type": "code",
   "execution_count": 1,
   "metadata": {},
   "outputs": [
    {
     "ename": "NameError",
     "evalue": "name 'df_filtered' is not defined",
     "output_type": "error",
     "traceback": [
      "\u001b[0;31m---------------------------------------------------------------------------\u001b[0m",
      "\u001b[0;31mNameError\u001b[0m                                 Traceback (most recent call last)",
      "Cell \u001b[0;32mIn[1], line 4\u001b[0m\n\u001b[1;32m      1\u001b[0m \u001b[38;5;66;03m# ===================================================\u001b[39;00m\n\u001b[1;32m      2\u001b[0m \u001b[38;5;66;03m# 🔹 Evaluate LLM Performance\u001b[39;00m\n\u001b[1;32m      3\u001b[0m \u001b[38;5;66;03m# ===================================================\u001b[39;00m\n\u001b[0;32m----> 4\u001b[0m true_labels \u001b[38;5;241m=\u001b[39m df_filtered[\u001b[38;5;124m\"\u001b[39m\u001b[38;5;124mlabel\u001b[39m\u001b[38;5;124m\"\u001b[39m]\u001b[38;5;241m.\u001b[39mvalues\n\u001b[1;32m      5\u001b[0m predicted_labels \u001b[38;5;241m=\u001b[39m df_filtered[\u001b[38;5;124m\"\u001b[39m\u001b[38;5;124mLLM_Prediction\u001b[39m\u001b[38;5;124m\"\u001b[39m]\u001b[38;5;241m.\u001b[39mvalues\n\u001b[1;32m      7\u001b[0m \u001b[38;5;66;03m# Compute metrics\u001b[39;00m\n",
      "\u001b[0;31mNameError\u001b[0m: name 'df_filtered' is not defined"
     ]
    }
   ],
   "source": [
    "# ===================================================\n",
    "# 🔹 Evaluate LLM Performance\n",
    "# ===================================================\n",
    "true_labels = df_filtered[\"label\"].values\n",
    "predicted_labels = df_filtered[\"LLM_Prediction\"].values\n",
    "\n",
    "# Compute metrics\n",
    "accuracy = accuracy_score(true_labels, predicted_labels)\n",
    "report = classification_report(true_labels, predicted_labels, target_names=[\"REFUTES\", \"SUPPORTS\"])\n",
    "\n",
    "print(\"\\n=== LLM Model Performance ===\")\n",
    "print(f\"Accuracy: {accuracy:.4f}\")\n",
    "print(report)"
   ]
  }
 ],
 "metadata": {
  "kernelspec": {
   "display_name": "base",
   "language": "python",
   "name": "python3"
  },
  "language_info": {
   "codemirror_mode": {
    "name": "ipython",
    "version": 3
   },
   "file_extension": ".py",
   "mimetype": "text/x-python",
   "name": "python",
   "nbconvert_exporter": "python",
   "pygments_lexer": "ipython3",
   "version": "3.11.5"
  }
 },
 "nbformat": 4,
 "nbformat_minor": 2
}
