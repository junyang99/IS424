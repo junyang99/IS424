{
 "cells": [
  {
   "cell_type": "code",
   "execution_count": 2,
   "metadata": {},
   "outputs": [
    {
     "name": "stdout",
     "output_type": "stream",
     "text": [
      "Collecting pandas\n",
      "  Downloading pandas-2.2.3-cp311-cp311-manylinux_2_17_x86_64.manylinux2014_x86_64.whl.metadata (89 kB)\n",
      "Collecting numpy>=1.23.2 (from pandas)\n",
      "  Downloading numpy-2.2.3-cp311-cp311-manylinux_2_17_x86_64.manylinux2014_x86_64.whl.metadata (62 kB)\n",
      "Requirement already satisfied: python-dateutil>=2.8.2 in ./jupyterlab-venv-pytorch-240/lib/python3.11/site-packages (from pandas) (2.9.0.post0)\n",
      "Collecting pytz>=2020.1 (from pandas)\n",
      "  Downloading pytz-2025.1-py2.py3-none-any.whl.metadata (22 kB)\n",
      "Collecting tzdata>=2022.7 (from pandas)\n",
      "  Downloading tzdata-2025.1-py2.py3-none-any.whl.metadata (1.4 kB)\n",
      "Requirement already satisfied: six>=1.5 in ./jupyterlab-venv-pytorch-240/lib/python3.11/site-packages (from python-dateutil>=2.8.2->pandas) (1.17.0)\n",
      "Downloading pandas-2.2.3-cp311-cp311-manylinux_2_17_x86_64.manylinux2014_x86_64.whl (13.1 MB)\n",
      "\u001b[2K   \u001b[90m━━━━━━━━━━━━━━━━━━━━━━━━━━━━━━━━━━━━━━━━\u001b[0m \u001b[32m13.1/13.1 MB\u001b[0m \u001b[31m161.3 MB/s\u001b[0m eta \u001b[36m0:00:00\u001b[0m\n",
      "\u001b[?25hDownloading numpy-2.2.3-cp311-cp311-manylinux_2_17_x86_64.manylinux2014_x86_64.whl (16.4 MB)\n",
      "\u001b[2K   \u001b[90m━━━━━━━━━━━━━━━━━━━━━━━━━━━━━━━━━━━━━━━━\u001b[0m \u001b[32m16.4/16.4 MB\u001b[0m \u001b[31m159.3 MB/s\u001b[0m eta \u001b[36m0:00:00\u001b[0m\n",
      "\u001b[?25hDownloading pytz-2025.1-py2.py3-none-any.whl (507 kB)\n",
      "Downloading tzdata-2025.1-py2.py3-none-any.whl (346 kB)\n",
      "Installing collected packages: pytz, tzdata, numpy, pandas\n",
      "Successfully installed numpy-2.2.3 pandas-2.2.3 pytz-2025.1 tzdata-2025.1\n"
     ]
    }
   ],
   "source": [
    "# !pip install pandas"
   ]
  },
  {
   "cell_type": "code",
   "execution_count": 1,
   "metadata": {},
   "outputs": [
    {
     "name": "stdout",
     "output_type": "stream",
     "text": [
      "       id      verifiable            label  \\\n",
      "0   75397      VERIFIABLE         SUPPORTS   \n",
      "1  150448      VERIFIABLE         SUPPORTS   \n",
      "2  214861      VERIFIABLE         SUPPORTS   \n",
      "3  156709      VERIFIABLE          REFUTES   \n",
      "4   83235  NOT VERIFIABLE  NOT ENOUGH INFO   \n",
      "\n",
      "                                               claim  \\\n",
      "0  Nikolaj Coster-Waldau worked with the Fox Broa...   \n",
      "1                 Roman Atwood is a content creator.   \n",
      "2  History of art includes architecture, dance, s...   \n",
      "3                  Adrienne Bailon is an accountant.   \n",
      "4       System of a Down briefly disbanded in limbo.   \n",
      "\n",
      "                                            evidence  \n",
      "0  [[[92206, 104971, Nikolaj_Coster-Waldau, 7], [...  \n",
      "1  [[[174271, 187498, Roman_Atwood, 1]], [[174271...  \n",
      "2            [[[255136, 254645, History_of_art, 2]]]  \n",
      "3           [[[180804, 193183, Adrienne_Bailon, 0]]]  \n",
      "4                     [[[100277, None, None, None]]]  \n"
     ]
    }
   ],
   "source": [
    "import pandas as pd\n",
    "import json\n",
    "\n",
    "data = []\n",
    "with open(\"train.jsonl\", \"r\") as f:\n",
    "    for line in f:\n",
    "        try:\n",
    "            data.append(json.loads(line))\n",
    "        except json.JSONDecodeError as e:\n",
    "            print(f\"Error in line: {line}\")\n",
    "            print(e)\n",
    "\n",
    "df = pd.DataFrame(data)\n",
    "print(df.head())\n"
   ]
  },
  {
   "cell_type": "code",
   "execution_count": 2,
   "metadata": {},
   "outputs": [
    {
     "data": {
      "text/html": [
       "<div>\n",
       "<style scoped>\n",
       "    .dataframe tbody tr th:only-of-type {\n",
       "        vertical-align: middle;\n",
       "    }\n",
       "\n",
       "    .dataframe tbody tr th {\n",
       "        vertical-align: top;\n",
       "    }\n",
       "\n",
       "    .dataframe thead th {\n",
       "        text-align: right;\n",
       "    }\n",
       "</style>\n",
       "<table border=\"1\" class=\"dataframe\">\n",
       "  <thead>\n",
       "    <tr style=\"text-align: right;\">\n",
       "      <th></th>\n",
       "      <th>id</th>\n",
       "    </tr>\n",
       "  </thead>\n",
       "  <tbody>\n",
       "    <tr>\n",
       "      <th>count</th>\n",
       "      <td>145449.000000</td>\n",
       "    </tr>\n",
       "    <tr>\n",
       "      <th>mean</th>\n",
       "      <td>113446.911701</td>\n",
       "    </tr>\n",
       "    <tr>\n",
       "      <th>std</th>\n",
       "      <td>66658.163706</td>\n",
       "    </tr>\n",
       "    <tr>\n",
       "      <th>min</th>\n",
       "      <td>3.000000</td>\n",
       "    </tr>\n",
       "    <tr>\n",
       "      <th>25%</th>\n",
       "      <td>55530.000000</td>\n",
       "    </tr>\n",
       "    <tr>\n",
       "      <th>50%</th>\n",
       "      <td>112303.000000</td>\n",
       "    </tr>\n",
       "    <tr>\n",
       "      <th>75%</th>\n",
       "      <td>170904.000000</td>\n",
       "    </tr>\n",
       "    <tr>\n",
       "      <th>max</th>\n",
       "      <td>229449.000000</td>\n",
       "    </tr>\n",
       "  </tbody>\n",
       "</table>\n",
       "</div>"
      ],
      "text/plain": [
       "                  id\n",
       "count  145449.000000\n",
       "mean   113446.911701\n",
       "std     66658.163706\n",
       "min         3.000000\n",
       "25%     55530.000000\n",
       "50%    112303.000000\n",
       "75%    170904.000000\n",
       "max    229449.000000"
      ]
     },
     "execution_count": 2,
     "metadata": {},
     "output_type": "execute_result"
    }
   ],
   "source": [
    "df.describe()"
   ]
  },
  {
   "cell_type": "code",
   "execution_count": 3,
   "metadata": {},
   "outputs": [
    {
     "data": {
      "text/html": [
       "<div>\n",
       "<style scoped>\n",
       "    .dataframe tbody tr th:only-of-type {\n",
       "        vertical-align: middle;\n",
       "    }\n",
       "\n",
       "    .dataframe tbody tr th {\n",
       "        vertical-align: top;\n",
       "    }\n",
       "\n",
       "    .dataframe thead th {\n",
       "        text-align: right;\n",
       "    }\n",
       "</style>\n",
       "<table border=\"1\" class=\"dataframe\">\n",
       "  <thead>\n",
       "    <tr style=\"text-align: right;\">\n",
       "      <th></th>\n",
       "      <th>id</th>\n",
       "      <th>verifiable</th>\n",
       "      <th>label</th>\n",
       "      <th>claim</th>\n",
       "      <th>evidence</th>\n",
       "    </tr>\n",
       "  </thead>\n",
       "  <tbody>\n",
       "    <tr>\n",
       "      <th>0</th>\n",
       "      <td>75397</td>\n",
       "      <td>VERIFIABLE</td>\n",
       "      <td>SUPPORTS</td>\n",
       "      <td>Nikolaj Coster-Waldau worked with the Fox Broa...</td>\n",
       "      <td>[[[92206, 104971, Nikolaj_Coster-Waldau, 7], [...</td>\n",
       "    </tr>\n",
       "    <tr>\n",
       "      <th>1</th>\n",
       "      <td>150448</td>\n",
       "      <td>VERIFIABLE</td>\n",
       "      <td>SUPPORTS</td>\n",
       "      <td>Roman Atwood is a content creator.</td>\n",
       "      <td>[[[174271, 187498, Roman_Atwood, 1]], [[174271...</td>\n",
       "    </tr>\n",
       "    <tr>\n",
       "      <th>2</th>\n",
       "      <td>214861</td>\n",
       "      <td>VERIFIABLE</td>\n",
       "      <td>SUPPORTS</td>\n",
       "      <td>History of art includes architecture, dance, s...</td>\n",
       "      <td>[[[255136, 254645, History_of_art, 2]]]</td>\n",
       "    </tr>\n",
       "    <tr>\n",
       "      <th>3</th>\n",
       "      <td>156709</td>\n",
       "      <td>VERIFIABLE</td>\n",
       "      <td>REFUTES</td>\n",
       "      <td>Adrienne Bailon is an accountant.</td>\n",
       "      <td>[[[180804, 193183, Adrienne_Bailon, 0]]]</td>\n",
       "    </tr>\n",
       "    <tr>\n",
       "      <th>5</th>\n",
       "      <td>129629</td>\n",
       "      <td>VERIFIABLE</td>\n",
       "      <td>SUPPORTS</td>\n",
       "      <td>Homeland is an American television spy thrille...</td>\n",
       "      <td>[[[151831, 166598, Homeland_-LRB-TV_series-RRB...</td>\n",
       "    </tr>\n",
       "    <tr>\n",
       "      <th>...</th>\n",
       "      <td>...</td>\n",
       "      <td>...</td>\n",
       "      <td>...</td>\n",
       "      <td>...</td>\n",
       "      <td>...</td>\n",
       "    </tr>\n",
       "    <tr>\n",
       "      <th>145444</th>\n",
       "      <td>75062</td>\n",
       "      <td>VERIFIABLE</td>\n",
       "      <td>REFUTES</td>\n",
       "      <td>Led Zeppelin released an eponymous debut album...</td>\n",
       "      <td>[[[91851, 104659, Led_Zeppelin, 6], [91851, 10...</td>\n",
       "    </tr>\n",
       "    <tr>\n",
       "      <th>145445</th>\n",
       "      <td>149256</td>\n",
       "      <td>VERIFIABLE</td>\n",
       "      <td>SUPPORTS</td>\n",
       "      <td>Taal was romantic.</td>\n",
       "      <td>[[[292586, 285327, Taal_-LRB-film-RRB-, 0]], [...</td>\n",
       "    </tr>\n",
       "    <tr>\n",
       "      <th>145446</th>\n",
       "      <td>13287</td>\n",
       "      <td>VERIFIABLE</td>\n",
       "      <td>SUPPORTS</td>\n",
       "      <td>Her stars American actress Rooney Mara.</td>\n",
       "      <td>[[[28520, 34848, Her_-LRB-film-RRB-, 3], [2852...</td>\n",
       "    </tr>\n",
       "    <tr>\n",
       "      <th>145447</th>\n",
       "      <td>13114</td>\n",
       "      <td>VERIFIABLE</td>\n",
       "      <td>SUPPORTS</td>\n",
       "      <td>J. R. R. Tolkien created Gimli.</td>\n",
       "      <td>[[[28359, 34669, Gimli_-LRB-Middle-earth-RRB-,...</td>\n",
       "    </tr>\n",
       "    <tr>\n",
       "      <th>145448</th>\n",
       "      <td>152180</td>\n",
       "      <td>VERIFIABLE</td>\n",
       "      <td>SUPPORTS</td>\n",
       "      <td>Susan Sarandon is an award winner.</td>\n",
       "      <td>[[[176133, 189101, Susan_Sarandon, 1]], [[1761...</td>\n",
       "    </tr>\n",
       "  </tbody>\n",
       "</table>\n",
       "<p>109810 rows × 5 columns</p>\n",
       "</div>"
      ],
      "text/plain": [
       "            id  verifiable     label  \\\n",
       "0        75397  VERIFIABLE  SUPPORTS   \n",
       "1       150448  VERIFIABLE  SUPPORTS   \n",
       "2       214861  VERIFIABLE  SUPPORTS   \n",
       "3       156709  VERIFIABLE   REFUTES   \n",
       "5       129629  VERIFIABLE  SUPPORTS   \n",
       "...        ...         ...       ...   \n",
       "145444   75062  VERIFIABLE   REFUTES   \n",
       "145445  149256  VERIFIABLE  SUPPORTS   \n",
       "145446   13287  VERIFIABLE  SUPPORTS   \n",
       "145447   13114  VERIFIABLE  SUPPORTS   \n",
       "145448  152180  VERIFIABLE  SUPPORTS   \n",
       "\n",
       "                                                    claim  \\\n",
       "0       Nikolaj Coster-Waldau worked with the Fox Broa...   \n",
       "1                      Roman Atwood is a content creator.   \n",
       "2       History of art includes architecture, dance, s...   \n",
       "3                       Adrienne Bailon is an accountant.   \n",
       "5       Homeland is an American television spy thrille...   \n",
       "...                                                   ...   \n",
       "145444  Led Zeppelin released an eponymous debut album...   \n",
       "145445                                 Taal was romantic.   \n",
       "145446            Her stars American actress Rooney Mara.   \n",
       "145447                    J. R. R. Tolkien created Gimli.   \n",
       "145448                 Susan Sarandon is an award winner.   \n",
       "\n",
       "                                                 evidence  \n",
       "0       [[[92206, 104971, Nikolaj_Coster-Waldau, 7], [...  \n",
       "1       [[[174271, 187498, Roman_Atwood, 1]], [[174271...  \n",
       "2                 [[[255136, 254645, History_of_art, 2]]]  \n",
       "3                [[[180804, 193183, Adrienne_Bailon, 0]]]  \n",
       "5       [[[151831, 166598, Homeland_-LRB-TV_series-RRB...  \n",
       "...                                                   ...  \n",
       "145444  [[[91851, 104659, Led_Zeppelin, 6], [91851, 10...  \n",
       "145445  [[[292586, 285327, Taal_-LRB-film-RRB-, 0]], [...  \n",
       "145446  [[[28520, 34848, Her_-LRB-film-RRB-, 3], [2852...  \n",
       "145447  [[[28359, 34669, Gimli_-LRB-Middle-earth-RRB-,...  \n",
       "145448  [[[176133, 189101, Susan_Sarandon, 1]], [[1761...  \n",
       "\n",
       "[109810 rows x 5 columns]"
      ]
     },
     "execution_count": 3,
     "metadata": {},
     "output_type": "execute_result"
    }
   ],
   "source": [
    "df = df[df['verifiable'] != 'NOT VERIFIABLE']\n",
    "df"
   ]
  },
  {
   "cell_type": "code",
   "execution_count": 4,
   "metadata": {},
   "outputs": [
    {
     "data": {
      "text/html": [
       "<div>\n",
       "<style scoped>\n",
       "    .dataframe tbody tr th:only-of-type {\n",
       "        vertical-align: middle;\n",
       "    }\n",
       "\n",
       "    .dataframe tbody tr th {\n",
       "        vertical-align: top;\n",
       "    }\n",
       "\n",
       "    .dataframe thead th {\n",
       "        text-align: right;\n",
       "    }\n",
       "</style>\n",
       "<table border=\"1\" class=\"dataframe\">\n",
       "  <thead>\n",
       "    <tr style=\"text-align: right;\">\n",
       "      <th></th>\n",
       "      <th>id</th>\n",
       "      <th>verifiable</th>\n",
       "      <th>label</th>\n",
       "      <th>claim</th>\n",
       "      <th>evidence</th>\n",
       "    </tr>\n",
       "  </thead>\n",
       "  <tbody>\n",
       "    <tr>\n",
       "      <th>0</th>\n",
       "      <td>75397</td>\n",
       "      <td>VERIFIABLE</td>\n",
       "      <td>SUPPORTS</td>\n",
       "      <td>Nikolaj Coster-Waldau worked with the Fox Broa...</td>\n",
       "      <td>[[[92206, 104971, Nikolaj_Coster-Waldau, 7], [...</td>\n",
       "    </tr>\n",
       "    <tr>\n",
       "      <th>1</th>\n",
       "      <td>150448</td>\n",
       "      <td>VERIFIABLE</td>\n",
       "      <td>SUPPORTS</td>\n",
       "      <td>Roman Atwood is a content creator.</td>\n",
       "      <td>[[[174271, 187498, Roman_Atwood, 1]], [[174271...</td>\n",
       "    </tr>\n",
       "    <tr>\n",
       "      <th>2</th>\n",
       "      <td>214861</td>\n",
       "      <td>VERIFIABLE</td>\n",
       "      <td>SUPPORTS</td>\n",
       "      <td>History of art includes architecture, dance, s...</td>\n",
       "      <td>[[[255136, 254645, History_of_art, 2]]]</td>\n",
       "    </tr>\n",
       "    <tr>\n",
       "      <th>3</th>\n",
       "      <td>156709</td>\n",
       "      <td>VERIFIABLE</td>\n",
       "      <td>REFUTES</td>\n",
       "      <td>Adrienne Bailon is an accountant.</td>\n",
       "      <td>[[[180804, 193183, Adrienne_Bailon, 0]]]</td>\n",
       "    </tr>\n",
       "    <tr>\n",
       "      <th>5</th>\n",
       "      <td>129629</td>\n",
       "      <td>VERIFIABLE</td>\n",
       "      <td>SUPPORTS</td>\n",
       "      <td>Homeland is an American television spy thrille...</td>\n",
       "      <td>[[[151831, 166598, Homeland_-LRB-TV_series-RRB...</td>\n",
       "    </tr>\n",
       "    <tr>\n",
       "      <th>...</th>\n",
       "      <td>...</td>\n",
       "      <td>...</td>\n",
       "      <td>...</td>\n",
       "      <td>...</td>\n",
       "      <td>...</td>\n",
       "    </tr>\n",
       "    <tr>\n",
       "      <th>145444</th>\n",
       "      <td>75062</td>\n",
       "      <td>VERIFIABLE</td>\n",
       "      <td>REFUTES</td>\n",
       "      <td>Led Zeppelin released an eponymous debut album...</td>\n",
       "      <td>[[[91851, 104659, Led_Zeppelin, 6], [91851, 10...</td>\n",
       "    </tr>\n",
       "    <tr>\n",
       "      <th>145445</th>\n",
       "      <td>149256</td>\n",
       "      <td>VERIFIABLE</td>\n",
       "      <td>SUPPORTS</td>\n",
       "      <td>Taal was romantic.</td>\n",
       "      <td>[[[292586, 285327, Taal_-LRB-film-RRB-, 0]], [...</td>\n",
       "    </tr>\n",
       "    <tr>\n",
       "      <th>145446</th>\n",
       "      <td>13287</td>\n",
       "      <td>VERIFIABLE</td>\n",
       "      <td>SUPPORTS</td>\n",
       "      <td>Her stars American actress Rooney Mara.</td>\n",
       "      <td>[[[28520, 34848, Her_-LRB-film-RRB-, 3], [2852...</td>\n",
       "    </tr>\n",
       "    <tr>\n",
       "      <th>145447</th>\n",
       "      <td>13114</td>\n",
       "      <td>VERIFIABLE</td>\n",
       "      <td>SUPPORTS</td>\n",
       "      <td>J. R. R. Tolkien created Gimli.</td>\n",
       "      <td>[[[28359, 34669, Gimli_-LRB-Middle-earth-RRB-,...</td>\n",
       "    </tr>\n",
       "    <tr>\n",
       "      <th>145448</th>\n",
       "      <td>152180</td>\n",
       "      <td>VERIFIABLE</td>\n",
       "      <td>SUPPORTS</td>\n",
       "      <td>Susan Sarandon is an award winner.</td>\n",
       "      <td>[[[176133, 189101, Susan_Sarandon, 1]], [[1761...</td>\n",
       "    </tr>\n",
       "  </tbody>\n",
       "</table>\n",
       "<p>109810 rows × 5 columns</p>\n",
       "</div>"
      ],
      "text/plain": [
       "            id  verifiable     label  \\\n",
       "0        75397  VERIFIABLE  SUPPORTS   \n",
       "1       150448  VERIFIABLE  SUPPORTS   \n",
       "2       214861  VERIFIABLE  SUPPORTS   \n",
       "3       156709  VERIFIABLE   REFUTES   \n",
       "5       129629  VERIFIABLE  SUPPORTS   \n",
       "...        ...         ...       ...   \n",
       "145444   75062  VERIFIABLE   REFUTES   \n",
       "145445  149256  VERIFIABLE  SUPPORTS   \n",
       "145446   13287  VERIFIABLE  SUPPORTS   \n",
       "145447   13114  VERIFIABLE  SUPPORTS   \n",
       "145448  152180  VERIFIABLE  SUPPORTS   \n",
       "\n",
       "                                                    claim  \\\n",
       "0       Nikolaj Coster-Waldau worked with the Fox Broa...   \n",
       "1                      Roman Atwood is a content creator.   \n",
       "2       History of art includes architecture, dance, s...   \n",
       "3                       Adrienne Bailon is an accountant.   \n",
       "5       Homeland is an American television spy thrille...   \n",
       "...                                                   ...   \n",
       "145444  Led Zeppelin released an eponymous debut album...   \n",
       "145445                                 Taal was romantic.   \n",
       "145446            Her stars American actress Rooney Mara.   \n",
       "145447                    J. R. R. Tolkien created Gimli.   \n",
       "145448                 Susan Sarandon is an award winner.   \n",
       "\n",
       "                                                 evidence  \n",
       "0       [[[92206, 104971, Nikolaj_Coster-Waldau, 7], [...  \n",
       "1       [[[174271, 187498, Roman_Atwood, 1]], [[174271...  \n",
       "2                 [[[255136, 254645, History_of_art, 2]]]  \n",
       "3                [[[180804, 193183, Adrienne_Bailon, 0]]]  \n",
       "5       [[[151831, 166598, Homeland_-LRB-TV_series-RRB...  \n",
       "...                                                   ...  \n",
       "145444  [[[91851, 104659, Led_Zeppelin, 6], [91851, 10...  \n",
       "145445  [[[292586, 285327, Taal_-LRB-film-RRB-, 0]], [...  \n",
       "145446  [[[28520, 34848, Her_-LRB-film-RRB-, 3], [2852...  \n",
       "145447  [[[28359, 34669, Gimli_-LRB-Middle-earth-RRB-,...  \n",
       "145448  [[[176133, 189101, Susan_Sarandon, 1]], [[1761...  \n",
       "\n",
       "[109810 rows x 5 columns]"
      ]
     },
     "execution_count": 4,
     "metadata": {},
     "output_type": "execute_result"
    }
   ],
   "source": [
    "df = df[df['label'] != 'NOT ENOUGH INFO']\n",
    "df"
   ]
  },
  {
   "cell_type": "code",
   "execution_count": 5,
   "metadata": {},
   "outputs": [
    {
     "data": {
      "text/html": [
       "<div>\n",
       "<style scoped>\n",
       "    .dataframe tbody tr th:only-of-type {\n",
       "        vertical-align: middle;\n",
       "    }\n",
       "\n",
       "    .dataframe tbody tr th {\n",
       "        vertical-align: top;\n",
       "    }\n",
       "\n",
       "    .dataframe thead th {\n",
       "        text-align: right;\n",
       "    }\n",
       "</style>\n",
       "<table border=\"1\" class=\"dataframe\">\n",
       "  <thead>\n",
       "    <tr style=\"text-align: right;\">\n",
       "      <th></th>\n",
       "      <th>id</th>\n",
       "      <th>label</th>\n",
       "      <th>claim</th>\n",
       "      <th>evidence</th>\n",
       "    </tr>\n",
       "  </thead>\n",
       "  <tbody>\n",
       "    <tr>\n",
       "      <th>0</th>\n",
       "      <td>75397</td>\n",
       "      <td>SUPPORTS</td>\n",
       "      <td>Nikolaj Coster-Waldau worked with the Fox Broa...</td>\n",
       "      <td>[[[92206, 104971, Nikolaj_Coster-Waldau, 7], [...</td>\n",
       "    </tr>\n",
       "    <tr>\n",
       "      <th>1</th>\n",
       "      <td>150448</td>\n",
       "      <td>SUPPORTS</td>\n",
       "      <td>Roman Atwood is a content creator.</td>\n",
       "      <td>[[[174271, 187498, Roman_Atwood, 1]], [[174271...</td>\n",
       "    </tr>\n",
       "    <tr>\n",
       "      <th>2</th>\n",
       "      <td>214861</td>\n",
       "      <td>SUPPORTS</td>\n",
       "      <td>History of art includes architecture, dance, s...</td>\n",
       "      <td>[[[255136, 254645, History_of_art, 2]]]</td>\n",
       "    </tr>\n",
       "    <tr>\n",
       "      <th>3</th>\n",
       "      <td>156709</td>\n",
       "      <td>REFUTES</td>\n",
       "      <td>Adrienne Bailon is an accountant.</td>\n",
       "      <td>[[[180804, 193183, Adrienne_Bailon, 0]]]</td>\n",
       "    </tr>\n",
       "    <tr>\n",
       "      <th>5</th>\n",
       "      <td>129629</td>\n",
       "      <td>SUPPORTS</td>\n",
       "      <td>Homeland is an American television spy thrille...</td>\n",
       "      <td>[[[151831, 166598, Homeland_-LRB-TV_series-RRB...</td>\n",
       "    </tr>\n",
       "    <tr>\n",
       "      <th>...</th>\n",
       "      <td>...</td>\n",
       "      <td>...</td>\n",
       "      <td>...</td>\n",
       "      <td>...</td>\n",
       "    </tr>\n",
       "    <tr>\n",
       "      <th>145444</th>\n",
       "      <td>75062</td>\n",
       "      <td>REFUTES</td>\n",
       "      <td>Led Zeppelin released an eponymous debut album...</td>\n",
       "      <td>[[[91851, 104659, Led_Zeppelin, 6], [91851, 10...</td>\n",
       "    </tr>\n",
       "    <tr>\n",
       "      <th>145445</th>\n",
       "      <td>149256</td>\n",
       "      <td>SUPPORTS</td>\n",
       "      <td>Taal was romantic.</td>\n",
       "      <td>[[[292586, 285327, Taal_-LRB-film-RRB-, 0]], [...</td>\n",
       "    </tr>\n",
       "    <tr>\n",
       "      <th>145446</th>\n",
       "      <td>13287</td>\n",
       "      <td>SUPPORTS</td>\n",
       "      <td>Her stars American actress Rooney Mara.</td>\n",
       "      <td>[[[28520, 34848, Her_-LRB-film-RRB-, 3], [2852...</td>\n",
       "    </tr>\n",
       "    <tr>\n",
       "      <th>145447</th>\n",
       "      <td>13114</td>\n",
       "      <td>SUPPORTS</td>\n",
       "      <td>J. R. R. Tolkien created Gimli.</td>\n",
       "      <td>[[[28359, 34669, Gimli_-LRB-Middle-earth-RRB-,...</td>\n",
       "    </tr>\n",
       "    <tr>\n",
       "      <th>145448</th>\n",
       "      <td>152180</td>\n",
       "      <td>SUPPORTS</td>\n",
       "      <td>Susan Sarandon is an award winner.</td>\n",
       "      <td>[[[176133, 189101, Susan_Sarandon, 1]], [[1761...</td>\n",
       "    </tr>\n",
       "  </tbody>\n",
       "</table>\n",
       "<p>109810 rows × 4 columns</p>\n",
       "</div>"
      ],
      "text/plain": [
       "            id     label                                              claim  \\\n",
       "0        75397  SUPPORTS  Nikolaj Coster-Waldau worked with the Fox Broa...   \n",
       "1       150448  SUPPORTS                 Roman Atwood is a content creator.   \n",
       "2       214861  SUPPORTS  History of art includes architecture, dance, s...   \n",
       "3       156709   REFUTES                  Adrienne Bailon is an accountant.   \n",
       "5       129629  SUPPORTS  Homeland is an American television spy thrille...   \n",
       "...        ...       ...                                                ...   \n",
       "145444   75062   REFUTES  Led Zeppelin released an eponymous debut album...   \n",
       "145445  149256  SUPPORTS                                 Taal was romantic.   \n",
       "145446   13287  SUPPORTS            Her stars American actress Rooney Mara.   \n",
       "145447   13114  SUPPORTS                    J. R. R. Tolkien created Gimli.   \n",
       "145448  152180  SUPPORTS                 Susan Sarandon is an award winner.   \n",
       "\n",
       "                                                 evidence  \n",
       "0       [[[92206, 104971, Nikolaj_Coster-Waldau, 7], [...  \n",
       "1       [[[174271, 187498, Roman_Atwood, 1]], [[174271...  \n",
       "2                 [[[255136, 254645, History_of_art, 2]]]  \n",
       "3                [[[180804, 193183, Adrienne_Bailon, 0]]]  \n",
       "5       [[[151831, 166598, Homeland_-LRB-TV_series-RRB...  \n",
       "...                                                   ...  \n",
       "145444  [[[91851, 104659, Led_Zeppelin, 6], [91851, 10...  \n",
       "145445  [[[292586, 285327, Taal_-LRB-film-RRB-, 0]], [...  \n",
       "145446  [[[28520, 34848, Her_-LRB-film-RRB-, 3], [2852...  \n",
       "145447  [[[28359, 34669, Gimli_-LRB-Middle-earth-RRB-,...  \n",
       "145448  [[[176133, 189101, Susan_Sarandon, 1]], [[1761...  \n",
       "\n",
       "[109810 rows x 4 columns]"
      ]
     },
     "execution_count": 5,
     "metadata": {},
     "output_type": "execute_result"
    }
   ],
   "source": [
    "df.drop('verifiable', axis=1)"
   ]
  },
  {
   "cell_type": "markdown",
   "metadata": {},
   "source": [
    "SPLIT DATA"
   ]
  },
  {
   "cell_type": "code",
   "execution_count": 6,
   "metadata": {},
   "outputs": [],
   "source": [
    "# !pip install scikit-learn"
   ]
  },
  {
   "cell_type": "code",
   "execution_count": 6,
   "metadata": {},
   "outputs": [
    {
     "name": "stdout",
     "output_type": "stream",
     "text": [
      "Train size: 87848, Test size: 21962\n"
     ]
    }
   ],
   "source": [
    "from sklearn.model_selection import train_test_split\n",
    "\n",
    "# Split the dataset (assuming \"claim\" is the text and \"label\" is the target)\n",
    "train_df, test_df = train_test_split(df, test_size=0.2, random_state=42)\n",
    "\n",
    "print(f\"Train size: {len(train_df)}, Test size: {len(test_df)}\")\n"
   ]
  },
  {
   "cell_type": "markdown",
   "metadata": {},
   "source": [
    "Tokenize data"
   ]
  },
  {
   "cell_type": "code",
   "execution_count": 11,
   "metadata": {},
   "outputs": [],
   "source": [
    "# !pip install transformers"
   ]
  },
  {
   "cell_type": "code",
   "execution_count": 7,
   "metadata": {},
   "outputs": [],
   "source": [
    "from transformers import RobertaTokenizer\n",
    "\n",
    "# Load RoBERTa tokenizer\n",
    "tokenizer = RobertaTokenizer.from_pretrained(\"roberta-base\")\n",
    "\n",
    "def tokenize_function(examples):\n",
    "    return tokenizer(examples[\"claim\"], truncation=True, padding=\"max_length\", max_length=512)\n",
    "\n",
    "# Tokenize train and test sets\n",
    "train_encodings = tokenizer(list(train_df[\"claim\"]), truncation=True, padding=True, max_length=512)\n",
    "test_encodings = tokenizer(list(test_df[\"claim\"]), truncation=True, padding=True, max_length=512)\n"
   ]
  },
  {
   "cell_type": "markdown",
   "metadata": {},
   "source": [
    "Convert Labels to Numeric Format"
   ]
  },
  {
   "cell_type": "code",
   "execution_count": 8,
   "metadata": {},
   "outputs": [],
   "source": [
    "label_mapping = {\"SUPPORTS\": 0, \"REFUTES\": 1, \"NOT ENOUGH INFO\": 2}  # Adjust as needed\n",
    "\n",
    "train_labels = [label_mapping[label] for label in train_df[\"label\"]]\n",
    "test_labels = [label_mapping[label] for label in test_df[\"label\"]]\n"
   ]
  },
  {
   "cell_type": "markdown",
   "metadata": {},
   "source": [
    "Prepare Dataset for PyTorch"
   ]
  },
  {
   "cell_type": "code",
   "execution_count": 14,
   "metadata": {},
   "outputs": [],
   "source": [
    "# !pip install torch"
   ]
  },
  {
   "cell_type": "code",
   "execution_count": 9,
   "metadata": {},
   "outputs": [],
   "source": [
    "import torch\n",
    "\n",
    "class FEVERDataset(torch.utils.data.Dataset):\n",
    "    def __init__(self, encodings, labels):\n",
    "        self.encodings = encodings\n",
    "        self.labels = labels\n",
    "\n",
    "    def __len__(self):\n",
    "        return len(self.labels)\n",
    "\n",
    "    def __getitem__(self, idx):\n",
    "        item = {key: torch.tensor(val[idx]) for key, val in self.encodings.items()}\n",
    "        item[\"labels\"] = torch.tensor(self.labels[idx])\n",
    "        return item\n",
    "\n",
    "train_dataset = FEVERDataset(train_encodings, train_labels)\n",
    "test_dataset = FEVERDataset(test_encodings, test_labels)\n"
   ]
  },
  {
   "cell_type": "markdown",
   "metadata": {},
   "source": [
    "Load RoBERTa Model"
   ]
  },
  {
   "cell_type": "code",
   "execution_count": 10,
   "metadata": {},
   "outputs": [
    {
     "name": "stderr",
     "output_type": "stream",
     "text": [
      "Some weights of RobertaForSequenceClassification were not initialized from the model checkpoint at roberta-base and are newly initialized: ['classifier.dense.bias', 'classifier.dense.weight', 'classifier.out_proj.bias', 'classifier.out_proj.weight']\n",
      "You should probably TRAIN this model on a down-stream task to be able to use it for predictions and inference.\n"
     ]
    }
   ],
   "source": [
    "from transformers import RobertaForSequenceClassification\n",
    "\n",
    "model = RobertaForSequenceClassification.from_pretrained(\"roberta-base\", num_labels=3)\n"
   ]
  },
  {
   "cell_type": "code",
   "execution_count": 11,
   "metadata": {},
   "outputs": [],
   "source": [
    "from sklearn.metrics import accuracy_score, f1_score, precision_score, recall_score\n",
    "import numpy as np\n",
    "\n",
    "# Define compute_metrics function\n",
    "def compute_metrics(eval_pred):\n",
    "    logits, labels = eval_pred\n",
    "    predictions = np.argmax(logits, axis=-1)\n",
    "\n",
    "    accuracy = accuracy_score(labels, predictions)\n",
    "    precision = precision_score(labels, predictions, average=\"weighted\")\n",
    "    recall = recall_score(labels, predictions, average=\"weighted\")\n",
    "    f1 = f1_score(labels, predictions, average=\"weighted\")\n",
    "\n",
    "    return {\n",
    "        \"accuracy\": accuracy,\n",
    "        \"precision\": precision,\n",
    "        \"recall\": recall,\n",
    "        \"f1\": f1,\n",
    "    }\n"
   ]
  },
  {
   "cell_type": "code",
   "execution_count": 18,
   "metadata": {},
   "outputs": [],
   "source": [
    "# !pip install transformers[torch]\n",
    "# !pip install accelerate>=0.26.0"
   ]
  },
  {
   "cell_type": "markdown",
   "metadata": {},
   "source": [
    "Set Up Training Arguments"
   ]
  },
  {
   "cell_type": "code",
   "execution_count": 12,
   "metadata": {},
   "outputs": [
    {
     "name": "stderr",
     "output_type": "stream",
     "text": [
      "/common/home/projectgrps/IS424/IS424G4/jupyterlab-venv-pytorch-240/lib/python3.11/site-packages/transformers/training_args.py:1594: FutureWarning: `evaluation_strategy` is deprecated and will be removed in version 4.46 of 🤗 Transformers. Use `eval_strategy` instead\n",
      "  warnings.warn(\n"
     ]
    }
   ],
   "source": [
    "from transformers import TrainingArguments, Trainer\n",
    "\n",
    "training_args = TrainingArguments(\n",
    "    output_dir=\"./results\",\n",
    "    evaluation_strategy=\"epoch\",\n",
    "    save_strategy=\"epoch\",\n",
    "    learning_rate=2e-5,\n",
    "    per_device_train_batch_size=16,\n",
    "    per_device_eval_batch_size=16,\n",
    "    num_train_epochs=3,\n",
    "    weight_decay=0.01,\n",
    "    logging_dir=\"./logs\",\n",
    "    logging_steps=10,\n",
    ")\n",
    "\n",
    "trainer = Trainer(\n",
    "    model=model,\n",
    "    args=training_args,\n",
    "    train_dataset=train_dataset,\n",
    "    eval_dataset=test_dataset,\n",
    "    compute_metrics=compute_metrics,\n",
    ")\n"
   ]
  },
  {
   "cell_type": "markdown",
   "metadata": {},
   "source": [
    "Train the Model"
   ]
  },
  {
   "cell_type": "code",
   "execution_count": 13,
   "metadata": {},
   "outputs": [
    {
     "data": {
      "text/html": [
       "\n",
       "    <div>\n",
       "      \n",
       "      <progress value='16473' max='16473' style='width:300px; height:20px; vertical-align: middle;'></progress>\n",
       "      [16473/16473 24:42, Epoch 3/3]\n",
       "    </div>\n",
       "    <table border=\"1\" class=\"dataframe\">\n",
       "  <thead>\n",
       " <tr style=\"text-align: left;\">\n",
       "      <th>Epoch</th>\n",
       "      <th>Training Loss</th>\n",
       "      <th>Validation Loss</th>\n",
       "      <th>Accuracy</th>\n",
       "      <th>Precision</th>\n",
       "      <th>Recall</th>\n",
       "      <th>F1</th>\n",
       "    </tr>\n",
       "  </thead>\n",
       "  <tbody>\n",
       "    <tr>\n",
       "      <td>1</td>\n",
       "      <td>0.394400</td>\n",
       "      <td>0.332706</td>\n",
       "      <td>0.868272</td>\n",
       "      <td>0.865736</td>\n",
       "      <td>0.868272</td>\n",
       "      <td>0.862612</td>\n",
       "    </tr>\n",
       "    <tr>\n",
       "      <td>2</td>\n",
       "      <td>0.260400</td>\n",
       "      <td>0.309375</td>\n",
       "      <td>0.878017</td>\n",
       "      <td>0.877258</td>\n",
       "      <td>0.878017</td>\n",
       "      <td>0.872159</td>\n",
       "    </tr>\n",
       "    <tr>\n",
       "      <td>3</td>\n",
       "      <td>0.169400</td>\n",
       "      <td>0.345388</td>\n",
       "      <td>0.879792</td>\n",
       "      <td>0.877511</td>\n",
       "      <td>0.879792</td>\n",
       "      <td>0.875722</td>\n",
       "    </tr>\n",
       "  </tbody>\n",
       "</table><p>"
      ],
      "text/plain": [
       "<IPython.core.display.HTML object>"
      ]
     },
     "metadata": {},
     "output_type": "display_data"
    },
    {
     "data": {
      "text/plain": [
       "TrainOutput(global_step=16473, training_loss=0.3036986659989073, metrics={'train_runtime': 1483.3291, 'train_samples_per_second': 177.671, 'train_steps_per_second': 11.105, 'total_flos': 1.5439421351630304e+16, 'train_loss': 0.3036986659989073, 'epoch': 3.0})"
      ]
     },
     "execution_count": 13,
     "metadata": {},
     "output_type": "execute_result"
    }
   ],
   "source": [
    "trainer.train()"
   ]
  },
  {
   "cell_type": "code",
   "execution_count": 15,
   "metadata": {},
   "outputs": [
    {
     "data": {
      "text/html": [],
      "text/plain": [
       "<IPython.core.display.HTML object>"
      ]
     },
     "metadata": {},
     "output_type": "display_data"
    },
    {
     "name": "stdout",
     "output_type": "stream",
     "text": [
      "              precision    recall  f1-score   support\n",
      "\n",
      "           0     0.8899    0.9520    0.9199     15926\n",
      "           1     0.8448    0.6892    0.7591      6036\n",
      "\n",
      "    accuracy                         0.8798     21962\n",
      "   macro avg     0.8674    0.8206    0.8395     21962\n",
      "weighted avg     0.8775    0.8798    0.8757     21962\n",
      "\n"
     ]
    }
   ],
   "source": [
    "# SUPPORTS = 0, REFUTES = 1\n",
    "from sklearn.metrics import classification_report\n",
    "\n",
    "# Get predictions from the trained model\n",
    "predictions = trainer.predict(test_dataset)\n",
    "\n",
    "# Extract logits and true labels\n",
    "logits, labels = predictions.predictions, predictions.label_ids\n",
    "\n",
    "# Convert logits to class predictions\n",
    "y_pred = np.argmax(logits, axis=-1)\n",
    "y_true = labels  # Actual labels from test dataset\n",
    "\n",
    "# Print classification report\n",
    "report = classification_report(y_true, y_pred, digits=4)\n",
    "print(report)"
   ]
  },
  {
   "cell_type": "code",
   "execution_count": 14,
   "metadata": {},
   "outputs": [
    {
     "data": {
      "text/html": [],
      "text/plain": [
       "<IPython.core.display.HTML object>"
      ]
     },
     "metadata": {},
     "output_type": "display_data"
    },
    {
     "data": {
      "image/png": "[encoded data removed]",
      "text/plain": [
       "<Figure size 800x600 with 2 Axes>"
      ]
     },
     "metadata": {},
     "output_type": "display_data"
    }
   ],
   "source": [
    "from sklearn.metrics import confusion_matrix, ConfusionMatrixDisplay\n",
    "import matplotlib.pyplot as plt\n",
    "import seaborn as sns\n",
    "\n",
    "# Get predictions\n",
    "predictions = trainer.predict(test_dataset)\n",
    "preds = np.argmax(predictions.predictions, axis=1)  # Get the predicted class indices\n",
    "true_labels = test_labels  # Ground truth labels\n",
    "\n",
    "# Compute confusion matrix\n",
    "cm = confusion_matrix(true_labels, preds)\n",
    "\n",
    "# Plot the confusion matrix\n",
    "plt.figure(figsize=(8,6))\n",
    "sns.heatmap(cm, annot=True, fmt=\"d\", cmap=\"Blues\", xticklabels=[\"True News\", \"Fake News\"], yticklabels=[\"True News\", \"Fake News\"])\n",
    "plt.xlabel(\"Predicted Label\")\n",
    "plt.ylabel(\"True Label\")\n",
    "plt.title(\"Confusion Matrix\")\n",
    "plt.show()\n"
   ]
  },
  {
   "cell_type": "markdown",
   "metadata": {},
   "source": [
    "Evaluate the Model"
   ]
  },
  {
   "cell_type": "code",
   "execution_count": 19,
   "metadata": {},
   "outputs": [
    {
     "data": {
      "text/html": [],
      "text/plain": [
       "<IPython.core.display.HTML object>"
      ]
     },
     "metadata": {},
     "output_type": "display_data"
    },
    {
     "data": {
      "image/png": "[encoded data removed]",
      "text/plain": [
       "<Figure size 1000x800 with 1 Axes>"
      ]
     },
     "metadata": {},
     "output_type": "display_data"
    }
   ],
   "source": [
    "import matplotlib.pyplot as plt\n",
    "from sklearn.metrics import roc_curve, auc\n",
    "\n",
    "# Get predictions with probability scores from your trained model\n",
    "predictions = trainer.predict(test_dataset)\n",
    "\n",
    "# Extract probabilities for class 0 (positive class)\n",
    "y_pred_proba = predictions.predictions[:, 0]  # Get scores for class 0 (positive)\n",
    "y_true = predictions.label_ids  # True labels\n",
    "\n",
    "# Calculate ROC curve and AUC\n",
    "fpr, tpr, thresholds = roc_curve(y_true, y_pred_proba, pos_label=0)  # Set pos_label=0 for positive class\n",
    "roc_auc = auc(fpr, tpr)\n",
    "\n",
    "# Plot ROC curve\n",
    "plt.figure(figsize=(10, 8))\n",
    "plt.plot(fpr, tpr, label=f'AUC = {roc_auc:.2f}')\n",
    "plt.plot([0, 1], [0, 1], color='navy', lw=2, linestyle='--')  # Diagonal reference line\n",
    "plt.xlim([0.0, 1.0])\n",
    "plt.ylim([0.0, 1.05])\n",
    "plt.xlabel('False Positive Rate')\n",
    "plt.ylabel('True Positive Rate')\n",
    "plt.title('Receiver Operating Characteristic (ROC) Curve')\n",
    "plt.legend(loc=\"upper left\")  # Add legend to the plot\n",
    "plt.grid(True)\n",
    "plt.tight_layout()\n",
    "plt.show()\n"
   ]
  },
  {
   "cell_type": "code",
   "execution_count": null,
   "metadata": {},
   "outputs": [
    {
     "data": {
      "text/html": [
       "\n",
       "    <div>\n",
       "      \n",
       "      <progress value='1373' max='1373' style='width:300px; height:20px; vertical-align: middle;'></progress>\n",
       "      [1373/1373 00:32]\n",
       "    </div>\n",
       "    "
      ],
      "text/plain": [
       "<IPython.core.display.HTML object>"
      ]
     },
     "metadata": {},
     "output_type": "display_data"
    },
    {
     "data": {
      "text/plain": [
       "{'eval_loss': 0.3453884422779083,\n",
       " 'eval_accuracy': 0.8797923686367362,\n",
       " 'eval_precision': 0.8775112755861418,\n",
       " 'eval_recall': 0.8797923686367362,\n",
       " 'eval_f1': 0.8757217725767135,\n",
       " 'eval_runtime': 32.3086,\n",
       " 'eval_samples_per_second': 679.757,\n",
       " 'eval_steps_per_second': 42.496,\n",
       " 'epoch': 3.0}"
      ]
     },
     "execution_count": 17,
     "metadata": {},
     "output_type": "execute_result"
    }
   ],
   "source": [
    "trainer.evaluate()"
   ]
  },
  {
   "cell_type": "code",
   "execution_count": null,
   "metadata": {},
   "outputs": [],
   "source": []
  }
 ],
 "metadata": {
  "kernelspec": {
   "display_name": "Python 3 (ipykernel)",
   "language": "python",
   "name": "python3"
  },
  "language_info": {
   "codemirror_mode": {
    "name": "ipython",
    "version": 3
   },
   "file_extension": ".py",
   "mimetype": "text/x-python",
   "name": "python",
   "nbconvert_exporter": "python",
   "pygments_lexer": "ipython3",
   "version": "3.11.11"
  }
 },
 "nbformat": 4,
 "nbformat_minor": 4
}
